{
 "cells": [
  {
   "cell_type": "code",
   "execution_count": 1,
   "metadata": {},
   "outputs": [],
   "source": [
    "# 경로 설정을 위한 패키지\n",
    "import sys\n",
    "# 시각화를 위한 패키지 (import 필요 없음)\n",
    "import io\n",
    "import matplotlib.pyplot as plt\n",
    "import numpy as np\n",
    "import cv2"
   ]
  },
  {
   "cell_type": "code",
   "execution_count": 8,
   "metadata": {},
   "outputs": [],
   "source": [
    "sys.path.append(\"C:/Users/didwl/OneDrive/바탕 화면/최종/future_dobbies/Image_Detection/modules\") # 모튤 추가를 위한 시스템 패스 추가"
   ]
  },
  {
   "cell_type": "code",
   "execution_count": null,
   "metadata": {},
   "outputs": [],
   "source": [
    "# 추가된 경로에서 모듈 임포트\n",
    "from gcpVision import get_vision_ocr\n",
    "from bert import DropAd"
   ]
  },
  {
   "cell_type": "code",
   "execution_count": null,
   "metadata": {},
   "outputs": [],
   "source": [
    "# 이미지를 불러옵니다.(실제 시스템에서는 동일 방법으로 불러와졌다고 가정함)\n",
    "file_name = './SampleImages/BlogWithImages.jpg'\n",
    "\n",
    "# bytes 형태로 불러와 진 것을 가정합니다.\n",
    "with io.open(file_name, 'rb') as image_file:\n",
    "    content = image_file.read()"
   ]
  },
  {
   "cell_type": "code",
   "execution_count": null,
   "metadata": {},
   "outputs": [],
   "source": [
    "# 글자 인식을 수행하여 반환합니다.\n",
    "ocr = get_vision_ocr(content)\n",
    "print(ocr)"
   ]
  },
  {
   "cell_type": "code",
   "execution_count": null,
   "metadata": {},
   "outputs": [],
   "source": [
    "# 반환된 글자를 bert모델에 넣습니다.\n",
    "input_test = {'text' : ocr}\n",
    "input_test = DropAd(input_test)\n",
    "print(input_test['text'])"
   ]
  }
 ],
 "metadata": {
  "interpreter": {
   "hash": "0236eaa18b95e69b6dd18138b1c01c28e6b45a506c5ae77a18b3965f832d476c"
  },
  "kernelspec": {
   "display_name": "Python 3.9.6 64-bit",
   "language": "python",
   "name": "python3"
  },
  "language_info": {
   "codemirror_mode": {
    "name": "ipython",
    "version": 3
   },
   "file_extension": ".py",
   "mimetype": "text/x-python",
   "name": "python",
   "nbconvert_exporter": "python",
   "pygments_lexer": "ipython3",
   "version": "3.9.6"
  },
  "orig_nbformat": 4
 },
 "nbformat": 4,
 "nbformat_minor": 2
}
